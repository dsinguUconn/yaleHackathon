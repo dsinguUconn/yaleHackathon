{
 "cells": [
  {
   "cell_type": "markdown",
   "metadata": {},
   "source": [
    "# Credit Risk Analysis"
   ]
  },
  {
   "cell_type": "markdown",
   "metadata": {},
   "source": [
    "### Introduction\n",
    "This tutorial shows how quantum algorithms can be used for credit risk analysis.\n",
    "More precisely, how Quantum Amplitude Estimation (QAE) can be used to estimate risk measures with a quadratic speed-up over classical Monte Carlo simulation.\n",
    "The tutorial is based on the following papers:\n",
    "\n",
    "- [Quantum Risk Analysis. Stefan Woerner, Daniel J. Egger.](https://www.nature.com/articles/s41534-019-0130-6) [Woerner2019]\n",
    "- [Credit Risk Analysis using Quantum Computers. Egger et al. (2019)](https://arxiv.org/abs/1907.03044) [Egger2019]\n",
    "\n",
    "A general introduction to QAE can be found in the following paper:\n",
    "\n",
    "- [Quantum Amplitude Amplification and Estimation. Gilles Brassard et al.](http://arxiv.org/abs/quant-ph/0005055)\n",
    "\n",
    "The structure of the tutorial is as follows:\n",
    "\n",
    "1. [Problem Definition](#Problem-Definition)\n",
    "2. [Uncertainty Model](#Uncertainty-Model)\n",
    "3. [Expected Loss](#Expected-Loss)\n",
    "4. [Cumulative Distribution Function](#Cumulative-Distribution-Function)\n",
    "5. [Value at Risk](#Value-at-Risk)\n",
    "6. [Conditional Value at Risk](#Conditional-Value-at-Risk)"
   ]
  },
  {
   "cell_type": "code",
   "execution_count": 1,
   "metadata": {},
   "outputs": [],
   "source": [
    "import numpy as np\n",
    "import matplotlib.pyplot as plt\n",
    "\n",
    "from qiskit import QuantumRegister, QuantumCircuit\n",
    "from qiskit.circuit.library import IntegerComparator\n",
    "from qiskit_algorithms import IterativeAmplitudeEstimation, EstimationProblem\n",
    "from qiskit_aer.primitives import Sampler"
   ]
  },
  {
   "cell_type": "markdown",
   "metadata": {},
   "source": [
    "### Problem Definition\n",
    "\n",
    "In this tutorial we want to analyze the credit risk of a portfolio of $K$ assets.\n",
    "The default probability of every asset $k$ follows a *Gaussian Conditional Independence* model, i.e., given a value $z$ sampled from a latent random variable $Z$ following a standard normal distribution, the default probability of asset $k$ is given by\n",
    "\n",
    "$$p_k(z) = F\\left( \\frac{F^{-1}(p_k^0) - \\sqrt{\\rho_k}z}{\\sqrt{1 - \\rho_k}} \\right) $$\n",
    "\n",
    "where $F$ denotes the cumulative distribution function of $Z$, $p_k^0$ is the default probability of asset $k$ for $z=0$ and $\\rho_k$ is the sensitivity of the default probability of asset $k$ with respect to $Z$. Thus, given a concrete realization of $Z$ the individual default events are assumed to be independent from each other.\n",
    "\n",
    "We are interested in analyzing risk measures of the total loss\n",
    "\n",
    "$$ L = \\sum_{k=1}^K \\lambda_k X_k(Z) $$\n",
    "\n",
    "where $\\lambda_k$ denotes the _loss given default_ of asset $k$, and given $Z$, $X_k(Z)$ denotes a Bernoulli variable representing the default event of asset $k$. More precisely, we are interested in the expected value $\\mathbb{E}[L]$, the Value at Risk (VaR) of $L$ and the Conditional Value at Risk of $L$ (also called Expected Shortfall). Where VaR and CVaR are defined as\n",
    "\n",
    "$$ \\text{VaR}_{\\alpha}(L) = \\inf \\{ x \\mid \\mathbb{P}[L <= x] \\geq 1 - \\alpha \\}$$\n",
    "\n",
    "with confidence level $\\alpha \\in [0, 1]$, and\n",
    "\n",
    "$$ \\text{CVaR}_{\\alpha}(L) = \\mathbb{E}[ L \\mid L \\geq \\text{VaR}_{\\alpha}(L) ].$$\n",
    "\n",
    "For more details on the considered model, see, e.g.,<br>\n",
    "[Regulatory Capital Modeling for Credit Risk. Marek Rutkowski, Silvio Tarca](https://arxiv.org/abs/1412.1183)\n",
    "\n",
    "\n",
    "\n",
    "The problem is defined by the following parameters:\n",
    "\n",
    "- number of qubits used to represent $Z$, denoted by $n_z$\n",
    "- truncation value for $Z$, denoted by $z_{\\text{max}}$, i.e., Z is assumed to take $2^{n_z}$ equidistant values in $\\{-z_{max}, ..., +z_{max}\\}$ \n",
    "- the base default probabilities for each asset $p_0^k \\in (0, 1)$, $k=1, ..., K$\n",
    "- sensitivities of the default probabilities with respect to $Z$, denoted by $\\rho_k \\in [0, 1)$\n",
    "- loss given default for asset $k$, denoted by $\\lambda_k$\n",
    "- confidence level for VaR / CVaR $\\alpha \\in [0, 1]$."
   ]
  },
  {
   "cell_type": "code",
   "execution_count": 2,
   "metadata": {},
   "outputs": [],
   "source": [
    "# set problem parameters\n",
    "n_z = 5\n",
    "z_max = 4\n",
    "z_values = np.linspace(-z_max, z_max, 2**n_z) #values that are not cald but needed\n",
    "p_zeros = [0.15, 0.25, 0.2, 0.1, 0.025] #list of probs\n",
    "rhos = [0.1, 0.05, 0.15, 0.05, 0.025] #correlation coffeciceint\n",
    "lgd = [1, 2, 1, 3, 5] #loss given default\n",
    "K = len(p_zeros)\n",
    "alpha = 0.05 #default confidence lvl"
   ]
  },
  {
   "cell_type": "markdown",
   "metadata": {},
   "source": [
    "### Uncertainty Model\n",
    "\n",
    "We now construct a circuit that loads the uncertainty model. This can be achieved by creating a quantum state in a register of $n_z$ qubits that represents $Z$ following a standard normal distribution. This state is then used to control single qubit Y-rotations on a second qubit register of $K$ qubits, where a $|1\\rangle$ state of qubit $k$ represents the default event of asset $k$. The resulting quantum state can be written as\n",
    "\n",
    "$$ |\\Psi\\rangle = \\sum_{i=0}^{2^{n_z}-1} \\sqrt{p_z^i} |z_i \\rangle \\bigotimes_{k=1}^K \n",
    "\\left( \\sqrt{1 - p_k(z_i)}|0\\rangle + \\sqrt{p_k(z_i)}|1\\rangle\\right),\n",
    "$$\n",
    "\n",
    "where we denote by $z_i$ the $i$-th value of the discretized and truncated $Z$ [Egger2019]."
   ]
  },
  {
   "cell_type": "code",
   "execution_count": 3,
   "metadata": {},
   "outputs": [],
   "source": [
    "from qiskit_finance.circuit.library import (\n",
    "    GaussianConditionalIndependenceModel as GCI,\n",
    ")\n",
    "\n",
    "u = GCI(n_z, z_max, p_zeros, rhos)"
   ]
  },
  {
   "cell_type": "code",
   "execution_count": 4,
   "metadata": {},
   "outputs": [
    {
     "data": {
      "text/html": [
       "<pre style=\"word-wrap: normal;white-space: pre;background: #fff0;line-height: 1.1;font-family: &quot;Courier New&quot;,Courier,monospace\">     ┌───────┐\n",
       "q_0: ┤0      ├\n",
       "     │       │\n",
       "q_1: ┤1      ├\n",
       "     │       │\n",
       "q_2: ┤2      ├\n",
       "     │       │\n",
       "q_3: ┤3      ├\n",
       "     │       │\n",
       "q_4: ┤4      ├\n",
       "     │  P(X) │\n",
       "q_5: ┤5      ├\n",
       "     │       │\n",
       "q_6: ┤6      ├\n",
       "     │       │\n",
       "q_7: ┤7      ├\n",
       "     │       │\n",
       "q_8: ┤8      ├\n",
       "     │       │\n",
       "q_9: ┤9      ├\n",
       "     └───────┘</pre>"
      ],
      "text/plain": [
       "     ┌───────┐\n",
       "q_0: ┤0      ├\n",
       "     │       │\n",
       "q_1: ┤1      ├\n",
       "     │       │\n",
       "q_2: ┤2      ├\n",
       "     │       │\n",
       "q_3: ┤3      ├\n",
       "     │       │\n",
       "q_4: ┤4      ├\n",
       "     │  P(X) │\n",
       "q_5: ┤5      ├\n",
       "     │       │\n",
       "q_6: ┤6      ├\n",
       "     │       │\n",
       "q_7: ┤7      ├\n",
       "     │       │\n",
       "q_8: ┤8      ├\n",
       "     │       │\n",
       "q_9: ┤9      ├\n",
       "     └───────┘"
      ]
     },
     "execution_count": 4,
     "metadata": {},
     "output_type": "execute_result"
    }
   ],
   "source": [
    "u.draw()"
   ]
  },
  {
   "cell_type": "markdown",
   "metadata": {},
   "source": [
    "We now use the simulator to validate the circuit that constructs $|\\Psi\\rangle$ and compute the corresponding exact values for\n",
    "\n",
    "- expected loss $\\mathbb{E}[L]$\n",
    "- PDF and CDF of $L$ \n",
    "- value at risk $VaR(L)$ and corresponding probability\n",
    "- conditional value at risk $CVaR(L)$"
   ]
  },
  {
   "cell_type": "code",
   "execution_count": 5,
   "metadata": {},
   "outputs": [],
   "source": [
    "u_measure = u.measure_all(inplace=False)\n",
    "exact_sampler = Sampler()\n",
    "job = exact_sampler.run(u_measure)\n",
    "binary_probabilities = job.result().quasi_dists[0].binary_probabilities()"
   ]
  },
  {
   "cell_type": "code",
   "execution_count": 6,
   "metadata": {},
   "outputs": [],
   "source": [
    "# analyze uncertainty circuit and determine exact solutions\n",
    "p_z = np.zeros(2**n_z)\n",
    "p_default = np.zeros(K)\n",
    "values = []\n",
    "probabilities = []\n",
    "num_qubits = u.num_qubits\n",
    "\n",
    "for i, prob in binary_probabilities.items():\n",
    "    # extract value of Z and corresponding probability\n",
    "    i_normal = int(i[-n_z:], 2)\n",
    "    p_z[i_normal] += prob\n",
    "\n",
    "    # determine overall default probability for k\n",
    "    loss = 0\n",
    "    for k in range(K):\n",
    "        if i[K - k - 1] == \"1\":\n",
    "            p_default[k] += prob\n",
    "            loss += lgd[k]\n",
    "\n",
    "    values += [loss]\n",
    "    probabilities += [prob]\n",
    "\n",
    "\n",
    "values = np.array(values)\n",
    "probabilities = np.array(probabilities)\n",
    "\n",
    "expected_loss = np.dot(values, probabilities)\n",
    "losses = np.sort(np.unique(values))\n",
    "pdf = np.zeros(len(losses))\n",
    "for i, v in enumerate(losses):\n",
    "    pdf[i] += sum(probabilities[values == v])\n",
    "cdf = np.cumsum(pdf)\n",
    "\n",
    "i_var = np.argmax(cdf >= 1 - alpha) #fisr occur of loss that is not default\n",
    "exact_var = losses[i_var]\n",
    "exact_cvar = np.dot(pdf[(i_var + 1) :], losses[(i_var + 1) :]) / sum(\n",
    "    pdf[(i_var + 1) :]\n",
    ")"
   ]
  },
  {
   "cell_type": "code",
   "execution_count": 36,
   "metadata": {},
   "outputs": [
    {
     "name": "stdout",
     "output_type": "stream",
     "text": [
      "Expected Loss E[L]:                1.2920\n",
      "Value at Risk VaR[L]:              5.0000\n",
      "P[L <= VaR[L]]:                    0.9775\n",
      "Conditional Value at Risk CVaR[L]: 6.8261\n"
     ]
    }
   ],
   "source": [
    "print(\"Expected Loss E[L]:                %.4f\" % expected_loss)\n",
    "print(\"Value at Risk VaR[L]:              %.4f\" % exact_var)\n",
    "print(\"P[L <= VaR[L]]:                    %.4f\" % cdf[exact_var])\n",
    "print(\"Conditional Value at Risk CVaR[L]: %.4f\" % exact_cvar)"
   ]
  },
  {
   "cell_type": "code",
   "execution_count": 37,
   "metadata": {
    "tags": [
     "nbsphinx-thumbnail"
    ]
   },
   "outputs": [
    {
     "data": {
      "image/png": "[encoded data removed]",
      "text/plain": [
       "<Figure size 640x480 with 1 Axes>"
      ]
     },
     "metadata": {},
     "output_type": "display_data"
    }
   ],
   "source": [
    "# plot loss PDF, expected loss, var, and cvar\n",
    "plt.bar(losses, pdf)\n",
    "plt.axvline(expected_loss, color=\"green\", linestyle=\"--\", label=\"E[L]\")\n",
    "plt.axvline(exact_var, color=\"orange\", linestyle=\"--\", label=\"VaR(L)\")\n",
    "plt.axvline(exact_cvar, color=\"red\", linestyle=\"--\", label=\"CVaR(L)\")\n",
    "plt.legend(fontsize=15)\n",
    "plt.xlabel(\"Loss L ($)\", size=15)\n",
    "plt.ylabel(\"probability (%)\", size=15)\n",
    "plt.title(\"Loss Distribution\", size=20)\n",
    "plt.xticks(size=15)\n",
    "plt.yticks(size=15)\n",
    "plt.show()"
   ]
  },
  {
   "cell_type": "code",
   "execution_count": 9,
   "metadata": {},
   "outputs": [
    {
     "data": {
      "image/png": "[encoded data removed]",
      "text/plain": [
       "<Figure size 640x480 with 1 Axes>"
      ]
     },
     "metadata": {},
     "output_type": "display_data"
    }
   ],
   "source": [
    "# plot results for Z\n",
    "plt.plot(z_values, p_z, \"o-\", linewidth=3, markersize=8)\n",
    "plt.grid()\n",
    "plt.xlabel(\"Z value\", size=15)\n",
    "plt.ylabel(\"probability (%)\", size=15)\n",
    "plt.title(\"Z Distribution\", size=20)\n",
    "plt.xticks(size=15)\n",
    "plt.yticks(size=15)\n",
    "plt.show()"
   ]
  },
  {
   "cell_type": "code",
   "execution_count": 10,
   "metadata": {},
   "outputs": [
    {
     "data": {
      "image/png": "[encoded data removed]",
      "text/plain": [
       "<Figure size 640x480 with 1 Axes>"
      ]
     },
     "metadata": {},
     "output_type": "display_data"
    }
   ],
   "source": [
    "# plot results for default probabilities\n",
    "plt.bar(range(K), p_default)\n",
    "plt.xlabel(\"Asset\", size=15)\n",
    "plt.ylabel(\"probability (%)\", size=15)\n",
    "plt.title(\"Individual Default Probabilities\", size=20)\n",
    "plt.xticks(range(K), size=15)\n",
    "plt.yticks(size=15)\n",
    "plt.grid()\n",
    "plt.show()"
   ]
  },
  {
   "cell_type": "markdown",
   "metadata": {},
   "source": [
    "### Expected Loss\n",
    "\n",
    "To estimate the expected loss, we first apply a weighted sum operator to sum up individual losses to total loss:\n",
    "\n",
    "$$ \\mathcal{S}: |x_1, ..., x_K \\rangle_K |0\\rangle_{n_S} \\mapsto |x_1, ..., x_K \\rangle_K |\\lambda_1x_1 + ... + \\lambda_K x_K\\rangle_{n_S}. $$\n",
    "\n",
    "The required number of qubits to represent the result is given by\n",
    "\n",
    "$$ n_s = \\lfloor \\log_2( \\lambda_1 + ... + \\lambda_K ) \\rfloor + 1. $$\n",
    "\n",
    "Once we have the total loss distribution in a quantum register, we can use the techniques described in [Woerner2019] to map a total loss $L \\in \\{0, ..., 2^{n_s}-1\\}$ to the amplitude of an objective qubit by an operator\n",
    "\n",
    "$$ | L \\rangle_{n_s}|0\\rangle \\mapsto \n",
    "| L \\rangle_{n_s} \\left( \\sqrt{1 - L/(2^{n_s}-1)}|0\\rangle + \\sqrt{L/(2^{n_s}-1)}|1\\rangle \\right), $$\n",
    "\n",
    "which allows to run amplitude estimation to evaluate the expected loss."
   ]
  },
  {
   "cell_type": "code",
   "execution_count": 11,
   "metadata": {},
   "outputs": [],
   "source": [
    "# add Z qubits with weight/loss 0\n",
    "from qiskit.circuit.library import WeightedAdder\n",
    "\n",
    "agg = WeightedAdder(n_z + K, [0] * n_z + lgd)"
   ]
  },
  {
   "cell_type": "code",
   "execution_count": 12,
   "metadata": {},
   "outputs": [
    {
     "data": {
      "text/html": [
       "<pre style=\"word-wrap: normal;white-space: pre;background: #fff0;line-height: 1.1;font-family: &quot;Courier New&quot;,Courier,monospace\">         ┌───────────────┐\n",
       "state_0: ┤0              ├\n",
       "         │               │\n",
       "state_1: ┤1              ├\n",
       "         │               │\n",
       "state_2: ┤2              ├\n",
       "         │               │\n",
       "state_3: ┤3              ├\n",
       "         │               │\n",
       "state_4: ┤4              ├\n",
       "         │               │\n",
       "state_5: ┤5              ├\n",
       "         │               │\n",
       "state_6: ┤6              ├\n",
       "         │               │\n",
       "state_7: ┤7              ├\n",
       "         │               │\n",
       "state_8: ┤8              ├\n",
       "         │   circuit-366 │\n",
       "state_9: ┤9              ├\n",
       "         │               │\n",
       "  sum_0: ┤10             ├\n",
       "         │               │\n",
       "  sum_1: ┤11             ├\n",
       "         │               │\n",
       "  sum_2: ┤12             ├\n",
       "         │               │\n",
       "  sum_3: ┤13             ├\n",
       "         │               │\n",
       "carry_0: ┤14             ├\n",
       "         │               │\n",
       "carry_1: ┤15             ├\n",
       "         │               │\n",
       "carry_2: ┤16             ├\n",
       "         │               │\n",
       "control: ┤17             ├\n",
       "         └───────────────┘</pre>"
      ],
      "text/plain": [
       "         ┌───────────────┐\n",
       "state_0: ┤0              ├\n",
       "         │               │\n",
       "state_1: ┤1              ├\n",
       "         │               │\n",
       "state_2: ┤2              ├\n",
       "         │               │\n",
       "state_3: ┤3              ├\n",
       "         │               │\n",
       "state_4: ┤4              ├\n",
       "         │               │\n",
       "state_5: ┤5              ├\n",
       "         │               │\n",
       "state_6: ┤6              ├\n",
       "         │               │\n",
       "state_7: ┤7              ├\n",
       "         │               │\n",
       "state_8: ┤8              ├\n",
       "         │   circuit-366 │\n",
       "state_9: ┤9              ├\n",
       "         │               │\n",
       "  sum_0: ┤10             ├\n",
       "         │               │\n",
       "  sum_1: ┤11             ├\n",
       "         │               │\n",
       "  sum_2: ┤12             ├\n",
       "         │               │\n",
       "  sum_3: ┤13             ├\n",
       "         │               │\n",
       "carry_0: ┤14             ├\n",
       "         │               │\n",
       "carry_1: ┤15             ├\n",
       "         │               │\n",
       "carry_2: ┤16             ├\n",
       "         │               │\n",
       "control: ┤17             ├\n",
       "         └───────────────┘"
      ]
     },
     "execution_count": 12,
     "metadata": {},
     "output_type": "execute_result"
    }
   ],
   "source": [
    "agg.draw()"
   ]
  },
  {
   "cell_type": "code",
   "execution_count": 13,
   "metadata": {},
   "outputs": [],
   "source": [
    "from qiskit.circuit.library import LinearAmplitudeFunction\n",
    "\n",
    "# define linear objective function\n",
    "breakpoints = [0]\n",
    "slopes = [1]\n",
    "offsets = [0]\n",
    "f_min = 0\n",
    "f_max = sum(lgd)\n",
    "c_approx = 0.25\n",
    "\n",
    "objective = LinearAmplitudeFunction(\n",
    "    agg.num_sum_qubits,\n",
    "    slope=slopes,\n",
    "    offset=offsets,\n",
    "    # max value that can be reached by the qubit register (will not always be reached)\n",
    "    domain=(0, 2**agg.num_sum_qubits - 1),\n",
    "    image=(f_min, f_max),\n",
    "    rescaling_factor=c_approx,\n",
    "    breakpoints=breakpoints,\n",
    ")"
   ]
  },
  {
   "cell_type": "markdown",
   "metadata": {},
   "source": [
    "Create the state preparation circuit:"
   ]
  },
  {
   "cell_type": "code",
   "execution_count": 14,
   "metadata": {},
   "outputs": [
    {
     "data": {
      "text/html": [
       "<pre style=\"word-wrap: normal;white-space: pre;background: #fff0;line-height: 1.1;font-family: &quot;Courier New&quot;,Courier,monospace\">           ┌───────┐┌─────────┐      ┌────────────┐\n",
       "  state_0: ┤0      ├┤0        ├──────┤0           ├\n",
       "           │       ││         │      │            │\n",
       "  state_1: ┤1      ├┤1        ├──────┤1           ├\n",
       "           │       ││         │      │            │\n",
       "  state_2: ┤2      ├┤2        ├──────┤2           ├\n",
       "           │       ││         │      │            │\n",
       "  state_3: ┤3      ├┤3        ├──────┤3           ├\n",
       "           │       ││         │      │            │\n",
       "  state_4: ┤4      ├┤4        ├──────┤4           ├\n",
       "           │  P(X) ││         │      │            │\n",
       "  state_5: ┤5      ├┤5        ├──────┤5           ├\n",
       "           │       ││         │      │            │\n",
       "  state_6: ┤6      ├┤6        ├──────┤6           ├\n",
       "           │       ││         │      │            │\n",
       "  state_7: ┤7      ├┤7        ├──────┤7           ├\n",
       "           │       ││         │      │            │\n",
       "  state_8: ┤8      ├┤8        ├──────┤8           ├\n",
       "           │       ││         │      │            │\n",
       "  state_9: ┤9      ├┤9  adder ├──────┤9  adder_dg ├\n",
       "           └───────┘│         │┌────┐│            │\n",
       "objective: ─────────┤         ├┤4   ├┤            ├\n",
       "                    │         ││    ││            │\n",
       "    sum_0: ─────────┤10       ├┤0   ├┤10          ├\n",
       "                    │         ││    ││            │\n",
       "    sum_1: ─────────┤11       ├┤1 F ├┤11          ├\n",
       "                    │         ││    ││            │\n",
       "    sum_2: ─────────┤12       ├┤2   ├┤12          ├\n",
       "                    │         ││    ││            │\n",
       "    sum_3: ─────────┤13       ├┤3   ├┤13          ├\n",
       "                    │         │└────┘│            │\n",
       "  carry_0: ─────────┤14       ├──────┤14          ├\n",
       "                    │         │      │            │\n",
       "  carry_1: ─────────┤15       ├──────┤15          ├\n",
       "                    │         │      │            │\n",
       "  carry_2: ─────────┤16       ├──────┤16          ├\n",
       "                    │         │      │            │\n",
       "  control: ─────────┤17       ├──────┤17          ├\n",
       "                    └─────────┘      └────────────┘</pre>"
      ],
      "text/plain": [
       "           ┌───────┐┌─────────┐      ┌────────────┐\n",
       "  state_0: ┤0      ├┤0        ├──────┤0           ├\n",
       "           │       ││         │      │            │\n",
       "  state_1: ┤1      ├┤1        ├──────┤1           ├\n",
       "           │       ││         │      │            │\n",
       "  state_2: ┤2      ├┤2        ├──────┤2           ├\n",
       "           │       ││         │      │            │\n",
       "  state_3: ┤3      ├┤3        ├──────┤3           ├\n",
       "           │       ││         │      │            │\n",
       "  state_4: ┤4      ├┤4        ├──────┤4           ├\n",
       "           │  P(X) ││         │      │            │\n",
       "  state_5: ┤5      ├┤5        ├──────┤5           ├\n",
       "           │       ││         │      │            │\n",
       "  state_6: ┤6      ├┤6        ├──────┤6           ├\n",
       "           │       ││         │      │            │\n",
       "  state_7: ┤7      ├┤7        ├──────┤7           ├\n",
       "           │       ││         │      │            │\n",
       "  state_8: ┤8      ├┤8        ├──────┤8           ├\n",
       "           │       ││         │      │            │\n",
       "  state_9: ┤9      ├┤9  adder ├──────┤9  adder_dg ├\n",
       "           └───────┘│         │┌────┐│            │\n",
       "objective: ─────────┤         ├┤4   ├┤            ├\n",
       "                    │         ││    ││            │\n",
       "    sum_0: ─────────┤10       ├┤0   ├┤10          ├\n",
       "                    │         ││    ││            │\n",
       "    sum_1: ─────────┤11       ├┤1 F ├┤11          ├\n",
       "                    │         ││    ││            │\n",
       "    sum_2: ─────────┤12       ├┤2   ├┤12          ├\n",
       "                    │         ││    ││            │\n",
       "    sum_3: ─────────┤13       ├┤3   ├┤13          ├\n",
       "                    │         │└────┘│            │\n",
       "  carry_0: ─────────┤14       ├──────┤14          ├\n",
       "                    │         │      │            │\n",
       "  carry_1: ─────────┤15       ├──────┤15          ├\n",
       "                    │         │      │            │\n",
       "  carry_2: ─────────┤16       ├──────┤16          ├\n",
       "                    │         │      │            │\n",
       "  control: ─────────┤17       ├──────┤17          ├\n",
       "                    └─────────┘      └────────────┘"
      ]
     },
     "execution_count": 14,
     "metadata": {},
     "output_type": "execute_result"
    }
   ],
   "source": [
    "# define the registers for convenience and readability\n",
    "qr_state = QuantumRegister(u.num_qubits, \"state\")\n",
    "qr_sum = QuantumRegister(agg.num_sum_qubits, \"sum\")\n",
    "qr_carry = QuantumRegister(agg.num_carry_qubits, \"carry\")\n",
    "qr_control = QuantumRegister(agg.num_control_qubits, \"control\")\n",
    "qr_obj = QuantumRegister(1, \"objective\")\n",
    "\n",
    "# define the circuit\n",
    "state_preparation = QuantumCircuit(\n",
    "    qr_state, qr_obj, qr_sum, qr_carry, qr_control, name=\"A\"\n",
    ")\n",
    "\n",
    "# load the random variable\n",
    "state_preparation.append(u.to_gate(), qr_state)\n",
    "\n",
    "# aggregate\n",
    "state_preparation.append(\n",
    "    agg.to_gate(), qr_state[:] + qr_sum[:] + qr_carry[:] + qr_control[:]\n",
    ")\n",
    "\n",
    "# linear objective function\n",
    "state_preparation.append(objective.to_gate(), qr_sum[:] + qr_obj[:])\n",
    "\n",
    "# uncompute aggregation\n",
    "state_preparation.append(\n",
    "    agg.to_gate().inverse(),\n",
    "    qr_state[:] + qr_sum[:] + qr_carry[:] + qr_control[:],\n",
    ")\n",
    "\n",
    "# draw the circuit\n",
    "state_preparation.draw()"
   ]
  },
  {
   "cell_type": "markdown",
   "metadata": {},
   "source": [
    "Before we use QAE to estimate the expected loss, we validate the quantum circuit representing the objective function by just simulating it directly and analyzing the probability of the objective qubit being in the $|1\\rangle$ state, i.e., the value QAE will eventually approximate."
   ]
  },
  {
   "cell_type": "code",
   "execution_count": 15,
   "metadata": {},
   "outputs": [],
   "source": [
    "state_preparation_measure = state_preparation.measure_all(inplace=False)\n",
    "job = exact_sampler.run(state_preparation_measure)\n",
    "binary_probabilities = job.result().quasi_dists[0].binary_probabilities()"
   ]
  },
  {
   "cell_type": "code",
   "execution_count": 16,
   "metadata": {},
   "outputs": [
    {
     "name": "stdout",
     "output_type": "stream",
     "text": [
      "Exact Expected Loss:   1.2920\n",
      "Exact Operator Value:  0.3926\n",
      "Mapped Operator value: 2.7174\n"
     ]
    }
   ],
   "source": [
    "# evaluate the result\n",
    "value = 0\n",
    "for i, prob in binary_probabilities.items():\n",
    "    if prob > 1e-6 and i[-(len(qr_state) + 1) :][0] == \"1\":\n",
    "        value += prob\n",
    "\n",
    "print(\"Exact Expected Loss:   %.4f\" % expected_loss)\n",
    "print(\"Exact Operator Value:  %.4f\" % value)\n",
    "print(\"Mapped Operator value: %.4f\" % objective.post_processing(value))"
   ]
  },
  {
   "cell_type": "markdown",
   "metadata": {},
   "source": [
    "Next we run QAE to estimate the expected loss with a quadratic speed-up over classical Monte Carlo simulation."
   ]
  },
  {
   "cell_type": "code",
   "execution_count": 17,
   "metadata": {
    "scrolled": true
   },
   "outputs": [
    {
     "name": "stdout",
     "output_type": "stream",
     "text": [
      "Exact value:    \t1.2920\n",
      "Estimated value:\t1.3578\n",
      "Confidence interval: \t[1.2454, 1.4703]\n"
     ]
    }
   ],
   "source": [
    "# set target precision and confidence level\n",
    "epsilon = 0.01\n",
    "alpha = 0.05\n",
    "\n",
    "problem = EstimationProblem(\n",
    "    state_preparation=state_preparation,\n",
    "    objective_qubits=[len(qr_state)],\n",
    "    post_processing=objective.post_processing,\n",
    ")\n",
    "# construct amplitude estimation\n",
    "sampler = Sampler(run_options={\"shots\": 1024, \"seed\": 75})\n",
    "ae = IterativeAmplitudeEstimation(\n",
    "    epsilon_target=epsilon,\n",
    "    alpha=alpha,\n",
    "    sampler=sampler,\n",
    ")\n",
    "result = ae.estimate(problem)\n",
    "\n",
    "# print results\n",
    "conf_int = np.array(result.confidence_interval_processed)\n",
    "print(\"Exact value:    \\t%.4f\" % expected_loss)\n",
    "print(\"Estimated value:\\t%.4f\" % result.estimation_processed)\n",
    "print(\"Confidence interval: \\t[%.4f, %.4f]\" % tuple(conf_int))"
   ]
  },
  {
   "cell_type": "markdown",
   "metadata": {},
   "source": [
    "### Cumulative Distribution Function\n",
    "\n",
    "Instead of the expected loss (which could also be estimated efficiently using classical techniques) we now estimate the cumulative distribution function (CDF) of the loss.\n",
    "Classically, this either involves evaluating all the possible combinations of defaulting assets, or many classical samples in a Monte Carlo simulation. Algorithms based on QAE have the potential to significantly speed up this analysis in the future.\n",
    "\n",
    "To estimate the CDF, i.e., the probability $\\mathbb{P}[L \\leq x]$, we again apply $\\mathcal{S}$ to compute the total loss, and then apply a comparator that for a given value $x$ acts as\n",
    "\n",
    "$$ \\mathcal{C}: |L\\rangle_n|0> \\mapsto \n",
    "\\begin{cases} \n",
    "|L\\rangle_n|1> & \\text{if}\\quad L \\leq x \\\\\n",
    "|L\\rangle_n|0> & \\text{if}\\quad L > x.\n",
    "\\end{cases} $$\n",
    "\n",
    "The resulting quantum state can be written as\n",
    "\n",
    "$$ \\sum_{L = 0}^{x} \\sqrt{p_{L}}|L\\rangle_{n_s}|1\\rangle + \n",
    "\\sum_{L = x+1}^{2^{n_s}-1} \\sqrt{p_{L}}|L\\rangle_{n_s}|0\\rangle, $$\n",
    "\n",
    "where we directly assume the summed up loss values and corresponding probabilities instead of presenting the details of the uncertainty model.\n",
    "\n",
    "The CDF($x$) equals the probability of measuring $|1\\rangle$ in the objective qubit and QAE can be directly used to estimate it."
   ]
  },
  {
   "cell_type": "code",
   "execution_count": 18,
   "metadata": {},
   "outputs": [
    {
     "data": {
      "text/html": [
       "<pre style=\"word-wrap: normal;white-space: pre;background: #fff0;line-height: 1.1;font-family: &quot;Courier New&quot;,Courier,monospace\">         ┌──────┐\n",
       "state_0: ┤0     ├\n",
       "         │      │\n",
       "state_1: ┤1     ├\n",
       "         │      │\n",
       "state_2: ┤2     ├\n",
       "         │      │\n",
       "state_3: ┤3     ├\n",
       "         │  cmp │\n",
       "compare: ┤4     ├\n",
       "         │      │\n",
       "   a9_0: ┤5     ├\n",
       "         │      │\n",
       "   a9_1: ┤6     ├\n",
       "         │      │\n",
       "   a9_2: ┤7     ├\n",
       "         └──────┘</pre>"
      ],
      "text/plain": [
       "         ┌──────┐\n",
       "state_0: ┤0     ├\n",
       "         │      │\n",
       "state_1: ┤1     ├\n",
       "         │      │\n",
       "state_2: ┤2     ├\n",
       "         │      │\n",
       "state_3: ┤3     ├\n",
       "         │  cmp │\n",
       "compare: ┤4     ├\n",
       "         │      │\n",
       "   a9_0: ┤5     ├\n",
       "         │      │\n",
       "   a9_1: ┤6     ├\n",
       "         │      │\n",
       "   a9_2: ┤7     ├\n",
       "         └──────┘"
      ]
     },
     "execution_count": 18,
     "metadata": {},
     "output_type": "execute_result"
    }
   ],
   "source": [
    "# set x value to estimate the CDF\n",
    "x_eval = 2\n",
    "\n",
    "comparator = IntegerComparator(agg.num_sum_qubits, x_eval + 1, geq=False)\n",
    "comparator.draw()"
   ]
  },
  {
   "cell_type": "code",
   "execution_count": 19,
   "metadata": {},
   "outputs": [],
   "source": [
    "def get_cdf_circuit(x_eval):\n",
    "    # define the registers for convenience and readability\n",
    "    qr_state = QuantumRegister(u.num_qubits, \"state\")\n",
    "    qr_sum = QuantumRegister(agg.num_sum_qubits, \"sum\")\n",
    "    qr_carry = QuantumRegister(agg.num_carry_qubits, \"carry\")\n",
    "    qr_control = QuantumRegister(agg.num_control_qubits, \"control\")\n",
    "    qr_obj = QuantumRegister(1, \"objective\")\n",
    "    qr_compare = QuantumRegister(1, \"compare\")\n",
    "\n",
    "    # define the circuit\n",
    "    state_preparation = QuantumCircuit(\n",
    "        qr_state, qr_obj, qr_sum, qr_carry, qr_control, name=\"A\"\n",
    "    )\n",
    "\n",
    "    # load the random variable\n",
    "    state_preparation.append(u, qr_state)\n",
    "\n",
    "    # aggregate\n",
    "    state_preparation.append(\n",
    "        agg, qr_state[:] + qr_sum[:] + qr_carry[:] + qr_control[:]\n",
    "    )\n",
    "\n",
    "    # comparator objective function\n",
    "    comparator = IntegerComparator(agg.num_sum_qubits, x_eval + 1, geq=False)\n",
    "    state_preparation.append(comparator, qr_sum[:] + qr_obj[:] + qr_carry[:])\n",
    "\n",
    "    # uncompute aggregation\n",
    "    state_preparation.append(\n",
    "        agg.inverse(), qr_state[:] + qr_sum[:] + qr_carry[:] + qr_control[:]\n",
    "    )\n",
    "\n",
    "    return state_preparation\n",
    "\n",
    "\n",
    "state_preparation = get_cdf_circuit(x_eval)"
   ]
  },
  {
   "cell_type": "markdown",
   "metadata": {},
   "source": [
    "Again, we first use quantum simulation to validate the quantum circuit."
   ]
  },
  {
   "cell_type": "code",
   "execution_count": 20,
   "metadata": {
    "scrolled": true
   },
   "outputs": [
    {
     "data": {
      "text/html": [
       "<pre style=\"word-wrap: normal;white-space: pre;background: #fff0;line-height: 1.1;font-family: &quot;Courier New&quot;,Courier,monospace\">           ┌───────┐┌─────────┐        ┌────────────┐\n",
       "  state_0: ┤0      ├┤0        ├────────┤0           ├\n",
       "           │       ││         │        │            │\n",
       "  state_1: ┤1      ├┤1        ├────────┤1           ├\n",
       "           │       ││         │        │            │\n",
       "  state_2: ┤2      ├┤2        ├────────┤2           ├\n",
       "           │       ││         │        │            │\n",
       "  state_3: ┤3      ├┤3        ├────────┤3           ├\n",
       "           │       ││         │        │            │\n",
       "  state_4: ┤4      ├┤4        ├────────┤4           ├\n",
       "           │  P(X) ││         │        │            │\n",
       "  state_5: ┤5      ├┤5        ├────────┤5           ├\n",
       "           │       ││         │        │            │\n",
       "  state_6: ┤6      ├┤6        ├────────┤6           ├\n",
       "           │       ││         │        │            │\n",
       "  state_7: ┤7      ├┤7        ├────────┤7           ├\n",
       "           │       ││         │        │            │\n",
       "  state_8: ┤8      ├┤8        ├────────┤8           ├\n",
       "           │       ││         │        │            │\n",
       "  state_9: ┤9      ├┤9  adder ├────────┤9  adder_dg ├\n",
       "           └───────┘│         │┌──────┐│            │\n",
       "objective: ─────────┤         ├┤4     ├┤            ├\n",
       "                    │         ││      ││            │\n",
       "    sum_0: ─────────┤10       ├┤0     ├┤10          ├\n",
       "                    │         ││      ││            │\n",
       "    sum_1: ─────────┤11       ├┤1     ├┤11          ├\n",
       "                    │         ││      ││            │\n",
       "    sum_2: ─────────┤12       ├┤2     ├┤12          ├\n",
       "                    │         ││  cmp ││            │\n",
       "    sum_3: ─────────┤13       ├┤3     ├┤13          ├\n",
       "                    │         ││      ││            │\n",
       "  carry_0: ─────────┤14       ├┤5     ├┤14          ├\n",
       "                    │         ││      ││            │\n",
       "  carry_1: ─────────┤15       ├┤6     ├┤15          ├\n",
       "                    │         ││      ││            │\n",
       "  carry_2: ─────────┤16       ├┤7     ├┤16          ├\n",
       "                    │         │└──────┘│            │\n",
       "  control: ─────────┤17       ├────────┤17          ├\n",
       "                    └─────────┘        └────────────┘</pre>"
      ],
      "text/plain": [
       "           ┌───────┐┌─────────┐        ┌────────────┐\n",
       "  state_0: ┤0      ├┤0        ├────────┤0           ├\n",
       "           │       ││         │        │            │\n",
       "  state_1: ┤1      ├┤1        ├────────┤1           ├\n",
       "           │       ││         │        │            │\n",
       "  state_2: ┤2      ├┤2        ├────────┤2           ├\n",
       "           │       ││         │        │            │\n",
       "  state_3: ┤3      ├┤3        ├────────┤3           ├\n",
       "           │       ││         │        │            │\n",
       "  state_4: ┤4      ├┤4        ├────────┤4           ├\n",
       "           │  P(X) ││         │        │            │\n",
       "  state_5: ┤5      ├┤5        ├────────┤5           ├\n",
       "           │       ││         │        │            │\n",
       "  state_6: ┤6      ├┤6        ├────────┤6           ├\n",
       "           │       ││         │        │            │\n",
       "  state_7: ┤7      ├┤7        ├────────┤7           ├\n",
       "           │       ││         │        │            │\n",
       "  state_8: ┤8      ├┤8        ├────────┤8           ├\n",
       "           │       ││         │        │            │\n",
       "  state_9: ┤9      ├┤9  adder ├────────┤9  adder_dg ├\n",
       "           └───────┘│         │┌──────┐│            │\n",
       "objective: ─────────┤         ├┤4     ├┤            ├\n",
       "                    │         ││      ││            │\n",
       "    sum_0: ─────────┤10       ├┤0     ├┤10          ├\n",
       "                    │         ││      ││            │\n",
       "    sum_1: ─────────┤11       ├┤1     ├┤11          ├\n",
       "                    │         ││      ││            │\n",
       "    sum_2: ─────────┤12       ├┤2     ├┤12          ├\n",
       "                    │         ││  cmp ││            │\n",
       "    sum_3: ─────────┤13       ├┤3     ├┤13          ├\n",
       "                    │         ││      ││            │\n",
       "  carry_0: ─────────┤14       ├┤5     ├┤14          ├\n",
       "                    │         ││      ││            │\n",
       "  carry_1: ─────────┤15       ├┤6     ├┤15          ├\n",
       "                    │         ││      ││            │\n",
       "  carry_2: ─────────┤16       ├┤7     ├┤16          ├\n",
       "                    │         │└──────┘│            │\n",
       "  control: ─────────┤17       ├────────┤17          ├\n",
       "                    └─────────┘        └────────────┘"
      ]
     },
     "execution_count": 20,
     "metadata": {},
     "output_type": "execute_result"
    }
   ],
   "source": [
    "state_preparation.draw()"
   ]
  },
  {
   "cell_type": "code",
   "execution_count": 21,
   "metadata": {},
   "outputs": [],
   "source": [
    "state_preparation_measure = state_preparation.measure_all(inplace=False)\n",
    "job = exact_sampler.run(state_preparation_measure)\n",
    "binary_probabilities = job.result().quasi_dists[0].binary_probabilities()"
   ]
  },
  {
   "cell_type": "code",
   "execution_count": 22,
   "metadata": {},
   "outputs": [
    {
     "name": "stdout",
     "output_type": "stream",
     "text": [
      "Operator CDF(2) = 0.8076\n",
      "Exact    CDF(2) = 0.8076\n"
     ]
    }
   ],
   "source": [
    "# evaluate the result\n",
    "var_prob = 0\n",
    "for i, prob in binary_probabilities.items():\n",
    "    if prob > 1e-6 and i[-(len(qr_state) + 1) :][0] == \"1\":\n",
    "        var_prob += prob\n",
    "\n",
    "print(\"Operator CDF(%s)\" % x_eval + \" = %.4f\" % var_prob)\n",
    "print(\"Exact    CDF(%s)\" % x_eval + \" = %.4f\" % cdf[x_eval])"
   ]
  },
  {
   "cell_type": "markdown",
   "metadata": {},
   "source": [
    "Next we run QAE to estimate the CDF for a given $x$."
   ]
  },
  {
   "cell_type": "code",
   "execution_count": 23,
   "metadata": {},
   "outputs": [
    {
     "name": "stdout",
     "output_type": "stream",
     "text": [
      "Exact value:    \t0.8076\n",
      "Estimated value:\t0.8095\n",
      "Confidence interval: \t[0.8058, 0.8132]\n"
     ]
    }
   ],
   "source": [
    "# set target precision and confidence level\n",
    "epsilon = 0.01\n",
    "alpha = 0.05\n",
    "\n",
    "problem = EstimationProblem(\n",
    "    state_preparation=state_preparation, objective_qubits=[len(qr_state)]\n",
    ")\n",
    "# construct amplitude estimation\n",
    "ae_cdf = IterativeAmplitudeEstimation(\n",
    "    epsilon_target=epsilon,\n",
    "    alpha=alpha,\n",
    "    sampler=sampler,\n",
    ")\n",
    "result_cdf = ae_cdf.estimate(problem)\n",
    "\n",
    "# print results\n",
    "conf_int = np.array(result_cdf.confidence_interval)\n",
    "print(\"Exact value:    \\t%.4f\" % cdf[x_eval])\n",
    "print(\"Estimated value:\\t%.4f\" % result_cdf.estimation)\n",
    "print(\"Confidence interval: \\t[%.4f, %.4f]\" % tuple(conf_int))"
   ]
  },
  {
   "cell_type": "markdown",
   "metadata": {},
   "source": [
    "### Value at Risk\n",
    "\n",
    "In the following we use a bisection search and QAE to efficiently evaluate the CDF to estimate the value at risk."
   ]
  },
  {
   "cell_type": "code",
   "execution_count": 24,
   "metadata": {},
   "outputs": [],
   "source": [
    "def run_ae_for_cdf(x_eval, epsilon=0.01, alpha=0.05):\n",
    "\n",
    "    # construct amplitude estimation\n",
    "    state_preparation = get_cdf_circuit(x_eval)\n",
    "    problem = EstimationProblem(\n",
    "        state_preparation=state_preparation, objective_qubits=[len(qr_state)]\n",
    "    )\n",
    "    ae_var = IterativeAmplitudeEstimation(\n",
    "        epsilon_target=epsilon,\n",
    "        alpha=alpha,\n",
    "        sampler=sampler,\n",
    "    )\n",
    "    result_var = ae_var.estimate(problem)\n",
    "\n",
    "    return result_var.estimation"
   ]
  },
  {
   "cell_type": "code",
   "execution_count": 25,
   "metadata": {},
   "outputs": [],
   "source": [
    "def bisection_search(\n",
    "    objective,\n",
    "    target_value,\n",
    "    low_level,\n",
    "    high_level,\n",
    "    low_value=None,\n",
    "    high_value=None,\n",
    "):\n",
    "    \"\"\"\n",
    "    Determines the smallest level such that the objective value is still larger than the target\n",
    "    :param objective: objective function\n",
    "    :param target: target value\n",
    "    :param low_level: lowest level to be considered\n",
    "    :param high_level: highest level to be considered\n",
    "    :param low_value: value of lowest level (will be evaluated if set to None)\n",
    "    :param high_value: value of highest level (will be evaluated if set to None)\n",
    "    :return: dictionary with level, value, num_eval\n",
    "    \"\"\"\n",
    "\n",
    "    # check whether low and high values are given and evaluated them otherwise\n",
    "    print(\n",
    "        \"--------------------------------------------------------------------\"\n",
    "    )\n",
    "    print(\"start bisection search for target value %.3f\" % target_value)\n",
    "    print(\n",
    "        \"--------------------------------------------------------------------\"\n",
    "    )\n",
    "    num_eval = 0\n",
    "    if low_value is None:\n",
    "        low_value = objective(low_level)\n",
    "        num_eval += 1\n",
    "    if high_value is None:\n",
    "        high_value = objective(high_level)\n",
    "        num_eval += 1\n",
    "\n",
    "    # check if low_value already satisfies the condition\n",
    "    if low_value > target_value:\n",
    "        return {\n",
    "            \"level\": low_level,\n",
    "            \"value\": low_value,\n",
    "            \"num_eval\": num_eval,\n",
    "            \"comment\": \"returned low value\",\n",
    "        }\n",
    "    elif low_value == target_value:\n",
    "        return {\n",
    "            \"level\": low_level,\n",
    "            \"value\": low_value,\n",
    "            \"num_eval\": num_eval,\n",
    "            \"comment\": \"success\",\n",
    "        }\n",
    "\n",
    "    # check if high_value is above target\n",
    "    if high_value < target_value:\n",
    "        return {\n",
    "            \"level\": high_level,\n",
    "            \"value\": high_value,\n",
    "            \"num_eval\": num_eval,\n",
    "            \"comment\": \"returned low value\",\n",
    "        }\n",
    "    elif high_value == target_value:\n",
    "        return {\n",
    "            \"level\": high_level,\n",
    "            \"value\": high_value,\n",
    "            \"num_eval\": num_eval,\n",
    "            \"comment\": \"success\",\n",
    "        }\n",
    "\n",
    "    # perform bisection search until\n",
    "    print(\n",
    "        \"low_level    low_value    level    value    high_level    high_value\"\n",
    "    )\n",
    "    print(\n",
    "        \"--------------------------------------------------------------------\"\n",
    "    )\n",
    "    while high_level - low_level > 1:\n",
    "\n",
    "        level = int(np.round((high_level + low_level) / 2.0))\n",
    "        num_eval += 1\n",
    "        value = objective(level)\n",
    "\n",
    "        print(\n",
    "            \"%2d           %.3f        %2d       %.3f    %2d            %.3f\"\n",
    "            % (low_level, low_value, level, value, high_level, high_value)\n",
    "        )\n",
    "\n",
    "        if value >= target_value:\n",
    "            high_level = level\n",
    "            high_value = value\n",
    "        else:\n",
    "            low_level = level\n",
    "            low_value = value\n",
    "\n",
    "    # return high value after bisection search\n",
    "    print(\n",
    "        \"--------------------------------------------------------------------\"\n",
    "    )\n",
    "    print(\"finished bisection search\")\n",
    "    print(\n",
    "        \"--------------------------------------------------------------------\"\n",
    "    )\n",
    "    return {\n",
    "        \"level\": high_level,\n",
    "        \"value\": high_value,\n",
    "        \"num_eval\": num_eval,\n",
    "        \"comment\": \"success\",\n",
    "    }"
   ]
  },
  {
   "cell_type": "code",
   "execution_count": 26,
   "metadata": {},
   "outputs": [
    {
     "name": "stdout",
     "output_type": "stream",
     "text": [
      "--------------------------------------------------------------------\n",
      "start bisection search for target value 0.950\n",
      "--------------------------------------------------------------------\n",
      "low_level    low_value    level    value    high_level    high_value\n",
      "--------------------------------------------------------------------\n",
      "-1           0.000         4       0.946     9            1.000\n",
      " 4           0.946         6       0.989     9            1.000\n",
      " 4           0.946         5       0.976     6            0.989\n",
      "--------------------------------------------------------------------\n",
      "finished bisection search\n",
      "--------------------------------------------------------------------\n"
     ]
    }
   ],
   "source": [
    "# run bisection search to determine VaR\n",
    "def objective(x):\n",
    "    return run_ae_for_cdf(x)\n",
    "\n",
    "\n",
    "bisection_result = bisection_search(\n",
    "    objective,\n",
    "    1 - alpha,\n",
    "    min(losses) - 1,\n",
    "    max(losses),\n",
    "    low_value=0,\n",
    "    high_value=1,\n",
    ")\n",
    "var = bisection_result[\"level\"]"
   ]
  },
  {
   "cell_type": "code",
   "execution_count": 27,
   "metadata": {},
   "outputs": [
    {
     "name": "stdout",
     "output_type": "stream",
     "text": [
      "Estimated Value at Risk:  5\n",
      "Exact Value at Risk:      5\n",
      "Estimated Probability:    0.976\n",
      "Exact Probability:        0.978\n"
     ]
    }
   ],
   "source": [
    "print(\"Estimated Value at Risk: %2d\" % var)\n",
    "print(\"Exact Value at Risk:     %2d\" % exact_var)\n",
    "print(\"Estimated Probability:    %.3f\" % bisection_result[\"value\"])\n",
    "print(\"Exact Probability:        %.3f\" % cdf[exact_var])"
   ]
  },
  {
   "cell_type": "markdown",
   "metadata": {},
   "source": [
    "### Conditional Value at Risk\n",
    "\n",
    "Last, we compute the CVaR, i.e. the expected value of the loss conditional to it being larger than or equal to the VaR.\n",
    "To do so, we evaluate a piecewise linear objective function $f(L)$, dependent on the total loss $L$, that is given by\n",
    "\n",
    "$$\n",
    "f(L) = \\begin{cases} \n",
    "0 & \\text{if}\\quad L \\leq VaR \\\\\n",
    "L & \\text{if}\\quad L > VaR.\n",
    "\\end{cases}\n",
    "$$\n",
    "\n",
    "To normalize, we have to divide the resulting expected value by the VaR-probability, i.e. $\\mathbb{P}[L \\leq VaR]$."
   ]
  },
  {
   "cell_type": "code",
   "execution_count": 28,
   "metadata": {},
   "outputs": [
    {
     "data": {
      "text/html": [
       "<pre style=\"word-wrap: normal;white-space: pre;background: #fff0;line-height: 1.1;font-family: &quot;Courier New&quot;,Courier,monospace\">        ┌─────────┐┌──────┐┌─────────┐┌─────────┐\n",
       "q172_0: ┤0        ├┤0     ├┤0        ├┤0        ├\n",
       "        │         ││      ││         ││         │\n",
       "q172_1: ┤1        ├┤1     ├┤1        ├┤1        ├\n",
       "        │         ││      ││         ││         │\n",
       "q172_2: ┤2 LinRot ├┤2     ├┤2 LinRot ├┤2        ├\n",
       "        │         ││      ││         ││         │\n",
       "q172_3: ┤3        ├┤3     ├┤3        ├┤3        ├\n",
       "        │         ││      ││         ││         │\n",
       "  q173: ┤4        ├┤  cmp ├┤4        ├┤  cmp_dg ├\n",
       "        └─────────┘│      │└────┬────┘│         │\n",
       " a63_0: ───────────┤4     ├─────■─────┤4        ├\n",
       "                   │      │           │         │\n",
       " a63_1: ───────────┤5     ├───────────┤5        ├\n",
       "                   │      │           │         │\n",
       " a63_2: ───────────┤6     ├───────────┤6        ├\n",
       "                   │      │           │         │\n",
       " a63_3: ───────────┤7     ├───────────┤7        ├\n",
       "                   └──────┘           └─────────┘</pre>"
      ],
      "text/plain": [
       "        ┌─────────┐┌──────┐┌─────────┐┌─────────┐\n",
       "q172_0: ┤0        ├┤0     ├┤0        ├┤0        ├\n",
       "        │         ││      ││         ││         │\n",
       "q172_1: ┤1        ├┤1     ├┤1        ├┤1        ├\n",
       "        │         ││      ││         ││         │\n",
       "q172_2: ┤2 LinRot ├┤2     ├┤2 LinRot ├┤2        ├\n",
       "        │         ││      ││         ││         │\n",
       "q172_3: ┤3        ├┤3     ├┤3        ├┤3        ├\n",
       "        │         ││      ││         ││         │\n",
       "  q173: ┤4        ├┤  cmp ├┤4        ├┤  cmp_dg ├\n",
       "        └─────────┘│      │└────┬────┘│         │\n",
       " a63_0: ───────────┤4     ├─────■─────┤4        ├\n",
       "                   │      │           │         │\n",
       " a63_1: ───────────┤5     ├───────────┤5        ├\n",
       "                   │      │           │         │\n",
       " a63_2: ───────────┤6     ├───────────┤6        ├\n",
       "                   │      │           │         │\n",
       " a63_3: ───────────┤7     ├───────────┤7        ├\n",
       "                   └──────┘           └─────────┘"
      ]
     },
     "execution_count": 28,
     "metadata": {},
     "output_type": "execute_result"
    }
   ],
   "source": [
    "# define linear objective\n",
    "breakpoints = [0, var]\n",
    "slopes = [0, 1]\n",
    "offsets = [0, 0]  # subtract VaR and add it later to the estimate\n",
    "f_min = 0\n",
    "f_max = sum(lgd) - var\n",
    "c_approx = 0.25\n",
    "\n",
    "cvar_objective = LinearAmplitudeFunction(\n",
    "    agg.num_sum_qubits,\n",
    "    slopes,\n",
    "    offsets,\n",
    "    domain=(0, 2**agg.num_sum_qubits - 1),\n",
    "    image=(f_min, f_max),\n",
    "    rescaling_factor=c_approx,\n",
    "    breakpoints=breakpoints,\n",
    ")\n",
    "\n",
    "cvar_objective.decompose(\n",
    "    gates_to_decompose=[\"cmp\", \"cmp_dg\", \"F\"], reps=2\n",
    ").draw()"
   ]
  },
  {
   "cell_type": "code",
   "execution_count": 29,
   "metadata": {},
   "outputs": [
    {
     "data": {
      "text/html": [
       "<pre style=\"word-wrap: normal;white-space: pre;background: #fff0;line-height: 1.1;font-family: &quot;Courier New&quot;,Courier,monospace\">           ┌───────┐┌─────────┐      ┌────────────┐\n",
       "  state_0: ┤0      ├┤0        ├──────┤0           ├\n",
       "           │       ││         │      │            │\n",
       "  state_1: ┤1      ├┤1        ├──────┤1           ├\n",
       "           │       ││         │      │            │\n",
       "  state_2: ┤2      ├┤2        ├──────┤2           ├\n",
       "           │       ││         │      │            │\n",
       "  state_3: ┤3      ├┤3        ├──────┤3           ├\n",
       "           │       ││         │      │            │\n",
       "  state_4: ┤4      ├┤4        ├──────┤4           ├\n",
       "           │  P(X) ││         │      │            │\n",
       "  state_5: ┤5      ├┤5        ├──────┤5           ├\n",
       "           │       ││         │      │            │\n",
       "  state_6: ┤6      ├┤6        ├──────┤6           ├\n",
       "           │       ││         │      │            │\n",
       "  state_7: ┤7      ├┤7        ├──────┤7           ├\n",
       "           │       ││         │      │            │\n",
       "  state_8: ┤8      ├┤8        ├──────┤8           ├\n",
       "           │       ││         │      │            │\n",
       "  state_9: ┤9      ├┤9  adder ├──────┤9  adder_dg ├\n",
       "           └───────┘│         │┌────┐│            │\n",
       "objective: ─────────┤         ├┤4   ├┤            ├\n",
       "                    │         ││    ││            │\n",
       "    sum_0: ─────────┤10       ├┤0   ├┤10          ├\n",
       "                    │         ││    ││            │\n",
       "    sum_1: ─────────┤11       ├┤1   ├┤11          ├\n",
       "                    │         ││    ││            │\n",
       "    sum_2: ─────────┤12       ├┤2   ├┤12          ├\n",
       "                    │         ││    ││            │\n",
       "    sum_3: ─────────┤13       ├┤3   ├┤13          ├\n",
       "                    │         ││  F ││            │\n",
       "  carry_0: ─────────┤14       ├┤5   ├┤14          ├\n",
       "                    │         ││    ││            │\n",
       "  carry_1: ─────────┤15       ├┤6   ├┤15          ├\n",
       "                    │         ││    ││            │\n",
       "  carry_2: ─────────┤16       ├┤7   ├┤16          ├\n",
       "                    │         ││    ││            │\n",
       "  control: ─────────┤17       ├┤    ├┤17          ├\n",
       "                    └─────────┘│    │└────────────┘\n",
       "     work: ────────────────────┤8   ├──────────────\n",
       "                               └────┘              </pre>"
      ],
      "text/plain": [
       "           ┌───────┐┌─────────┐      ┌────────────┐\n",
       "  state_0: ┤0      ├┤0        ├──────┤0           ├\n",
       "           │       ││         │      │            │\n",
       "  state_1: ┤1      ├┤1        ├──────┤1           ├\n",
       "           │       ││         │      │            │\n",
       "  state_2: ┤2      ├┤2        ├──────┤2           ├\n",
       "           │       ││         │      │            │\n",
       "  state_3: ┤3      ├┤3        ├──────┤3           ├\n",
       "           │       ││         │      │            │\n",
       "  state_4: ┤4      ├┤4        ├──────┤4           ├\n",
       "           │  P(X) ││         │      │            │\n",
       "  state_5: ┤5      ├┤5        ├──────┤5           ├\n",
       "           │       ││         │      │            │\n",
       "  state_6: ┤6      ├┤6        ├──────┤6           ├\n",
       "           │       ││         │      │            │\n",
       "  state_7: ┤7      ├┤7        ├──────┤7           ├\n",
       "           │       ││         │      │            │\n",
       "  state_8: ┤8      ├┤8        ├──────┤8           ├\n",
       "           │       ││         │      │            │\n",
       "  state_9: ┤9      ├┤9  adder ├──────┤9  adder_dg ├\n",
       "           └───────┘│         │┌────┐│            │\n",
       "objective: ─────────┤         ├┤4   ├┤            ├\n",
       "                    │         ││    ││            │\n",
       "    sum_0: ─────────┤10       ├┤0   ├┤10          ├\n",
       "                    │         ││    ││            │\n",
       "    sum_1: ─────────┤11       ├┤1   ├┤11          ├\n",
       "                    │         ││    ││            │\n",
       "    sum_2: ─────────┤12       ├┤2   ├┤12          ├\n",
       "                    │         ││    ││            │\n",
       "    sum_3: ─────────┤13       ├┤3   ├┤13          ├\n",
       "                    │         ││  F ││            │\n",
       "  carry_0: ─────────┤14       ├┤5   ├┤14          ├\n",
       "                    │         ││    ││            │\n",
       "  carry_1: ─────────┤15       ├┤6   ├┤15          ├\n",
       "                    │         ││    ││            │\n",
       "  carry_2: ─────────┤16       ├┤7   ├┤16          ├\n",
       "                    │         ││    ││            │\n",
       "  control: ─────────┤17       ├┤    ├┤17          ├\n",
       "                    └─────────┘│    │└────────────┘\n",
       "     work: ────────────────────┤8   ├──────────────\n",
       "                               └────┘              "
      ]
     },
     "execution_count": 29,
     "metadata": {},
     "output_type": "execute_result"
    }
   ],
   "source": [
    "# define the registers for convenience and readability\n",
    "qr_state = QuantumRegister(u.num_qubits, \"state\")\n",
    "qr_sum = QuantumRegister(agg.num_sum_qubits, \"sum\")\n",
    "qr_carry = QuantumRegister(agg.num_carry_qubits, \"carry\")\n",
    "qr_control = QuantumRegister(agg.num_control_qubits, \"control\")\n",
    "qr_obj = QuantumRegister(1, \"objective\")\n",
    "qr_work = QuantumRegister(cvar_objective.num_ancillas - len(qr_carry), \"work\")\n",
    "\n",
    "# define the circuit\n",
    "state_preparation = QuantumCircuit(\n",
    "    qr_state, qr_obj, qr_sum, qr_carry, qr_control, qr_work, name=\"A\"\n",
    ")\n",
    "\n",
    "# load the random variable\n",
    "state_preparation.append(u, qr_state)\n",
    "\n",
    "# aggregate\n",
    "state_preparation.append(\n",
    "    agg, qr_state[:] + qr_sum[:] + qr_carry[:] + qr_control[:]\n",
    ")\n",
    "\n",
    "# linear objective function\n",
    "state_preparation.append(\n",
    "    cvar_objective, qr_sum[:] + qr_obj[:] + qr_carry[:] + qr_work[:]\n",
    ")\n",
    "\n",
    "# uncompute aggregation\n",
    "state_preparation.append(\n",
    "    agg.inverse(), qr_state[:] + qr_sum[:] + qr_carry[:] + qr_control[:]\n",
    ")\n",
    "\n",
    "state_preparation.draw()"
   ]
  },
  {
   "cell_type": "markdown",
   "metadata": {},
   "source": [
    "Again, we first use quantum simulation to validate the quantum circuit."
   ]
  },
  {
   "cell_type": "code",
   "execution_count": 30,
   "metadata": {},
   "outputs": [],
   "source": [
    "state_preparation_measure = state_preparation.copy()\n",
    "new_creg = state_preparation_measure._create_creg(1, \"meas\")\n",
    "state_preparation_measure.add_register(new_creg)\n",
    "state_preparation_measure.barrier()\n",
    "state_preparation_measure.measure(qr_obj[:], new_creg)\n",
    "job = exact_sampler.run(state_preparation_measure)\n",
    "binary_probabilities = job.result().quasi_dists[0].binary_probabilities()"
   ]
  },
  {
   "cell_type": "code",
   "execution_count": 31,
   "metadata": {},
   "outputs": [
    {
     "name": "stdout",
     "output_type": "stream",
     "text": [
      "Estimated CVaR: 6.4931\n",
      "Exact CVaR:     6.8261\n"
     ]
    }
   ],
   "source": [
    "# evaluate the result\n",
    "value = binary_probabilities[\"1\"]\n",
    "\n",
    "# normalize and add VaR to estimate\n",
    "value = cvar_objective.post_processing(value)\n",
    "d = 1.0 - bisection_result[\"value\"]\n",
    "v = value / d if d != 0 else 0\n",
    "normalized_value = v + var\n",
    "print(\"Estimated CVaR: %.4f\" % normalized_value)\n",
    "print(\"Exact CVaR:     %.4f\" % exact_cvar)"
   ]
  },
  {
   "cell_type": "markdown",
   "metadata": {},
   "source": [
    "Next we run QAE to estimate the CVaR."
   ]
  },
  {
   "cell_type": "code",
   "execution_count": 32,
   "metadata": {},
   "outputs": [],
   "source": [
    "# set target precision and confidence level\n",
    "epsilon = 0.01\n",
    "alpha = 0.05\n",
    "\n",
    "problem = EstimationProblem(\n",
    "    state_preparation=state_preparation,\n",
    "    objective_qubits=[len(qr_state)],\n",
    "    post_processing=cvar_objective.post_processing,\n",
    ")\n",
    "# construct amplitude estimation\n",
    "ae_cvar = IterativeAmplitudeEstimation(\n",
    "    epsilon_target=epsilon,\n",
    "    alpha=alpha,\n",
    "    sampler=sampler,\n",
    ")\n",
    "result_cvar = ae_cvar.estimate(problem)"
   ]
  },
  {
   "cell_type": "code",
   "execution_count": 33,
   "metadata": {},
   "outputs": [
    {
     "name": "stdout",
     "output_type": "stream",
     "text": [
      "Exact CVaR:    \t6.8261\n",
      "Estimated CVaR:\t9.2988\n"
     ]
    }
   ],
   "source": [
    "# print results\n",
    "d = 1.0 - bisection_result[\"value\"]\n",
    "v = result_cvar.estimation_processed / d if d != 0 else 0\n",
    "print(\"Exact CVaR:    \\t%.4f\" % exact_cvar)\n",
    "print(\"Estimated CVaR:\\t%.4f\" % (v + var))"
   ]
  },
  {
   "cell_type": "code",
   "execution_count": 34,
   "metadata": {},
   "outputs": [
    {
     "name": "stdout",
     "output_type": "stream",
     "text": [
      "1.0.2\n"
     ]
    }
   ],
   "source": [
    "import qiskit\n",
    "print(qiskit.__version__)"
   ]
  }
 ],
 "metadata": {
  "celltoolbar": "Tags",
  "kernelspec": {
   "display_name": "Python 3",
   "language": "python",
   "name": "python3"
  },
  "language_info": {
   "codemirror_mode": {
    "name": "ipython",
    "version": 3
   },
   "file_extension": ".py",
   "mimetype": "text/x-python",
   "name": "python",
   "nbconvert_exporter": "python",
   "pygments_lexer": "ipython3",
   "version": "3.12.2"
  },
  "varInspector": {
   "cols": {
    "lenName": 16,
    "lenType": 16,
    "lenVar": 40
   },
   "kernels_config": {
    "python": {
     "delete_cmd_postfix": "",
     "delete_cmd_prefix": "del ",
     "library": "var_list.py",
     "varRefreshCmd": "print(var_dic_list())"
    },
    "r": {
     "delete_cmd_postfix": ") ",
     "delete_cmd_prefix": "rm(",
     "library": "var_list.r",
     "varRefreshCmd": "cat(var_dic_list()) "
    }
   },
   "types_to_exclude": [
    "module",
    "function",
    "builtin_function_or_method",
    "instance",
    "_Feature"
   ],
   "window_display": false
  }
 },
 "nbformat": 4,
 "nbformat_minor": 4
}
